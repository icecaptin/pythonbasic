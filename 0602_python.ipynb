{
 "cells": [
  {
   "cell_type": "code",
   "execution_count": 4,
   "metadata": {},
   "outputs": [
    {
     "name": "stdout",
     "output_type": "stream",
     "text": [
      "3\n",
      "5\n",
      "짐\n"
     ]
    }
   ],
   "source": [
    "#두 주사위를 던졌을 때, 합이 7이 되면 이김, 그렇지 않으면 지는 간단한 주사위 게임을 만들어보세요.\n",
    "#(힌트: random 모듈의 randint() 함수를 사용하세요.)\n",
    "\n",
    "import random\n",
    "\n",
    "random_num = random.randint(1,6)\n",
    "random_num2 = random.randint(1,6)\n",
    "\n",
    "print(random_num)\n",
    "print(random_num2)\n",
    "\n",
    "total = random_num + random_num2\n",
    "if total == 7:\n",
    "    print(\"이김\")\n",
    "else:\n",
    "    print(\"짐\")"
   ]
  },
  {
   "cell_type": "code",
   "execution_count": 5,
   "metadata": {},
   "outputs": [
    {
     "name": "stdout",
     "output_type": "stream",
     "text": [
      "결과: 10\n"
     ]
    }
   ],
   "source": [
    "# 사용자로부터 두 개의 정수와 연산자를 입력받아, 입력된 연산자에 따라 두 수의 사칙연산 결과를 출력하는 계산기 프로그램을 작성하세요. 프로그램은 사용자가 \"exit\"을 입력할 때까지 계속해서 작동합니다.\n",
    "# 입력받은 숫자는 어떠한 값이든 상관없습니다.\n",
    "# 입력받은 연산자는 +, -, *, / 중 하나입니다.\n",
    "# 나눗셈 연산 결과는 실수형으로 출력하세요.\n",
    "# 분모가 0일 경우, \"0으로 나눌 수 없습니다.\"를 출력하세요.\n",
    "# 사용자가 \"exit\"을 입력할 경우, 프로그램을 종료하세요.\n",
    "\n",
    "\n",
    "while True:\n",
    "    num1 = int(input(\"첫 번째 숫자를 입력하세요 (끝내려면 'exit' 입력): \"))\n",
    "    if num1 == \"exit\":\n",
    "        break\n",
    "\n",
    "    num2 = int(input(\"두 번째 숫자를 입력하세요: \"))\n",
    "    operator = input(\"연산자를 입력하세요 (+, -, *, /): \")\n",
    "    result = 0\n",
    "    try:\n",
    "        if operator == '+':\n",
    "            result = num1 + num2\n",
    "        elif operator == '-':\n",
    "            result = num1 - num2\n",
    "        elif operator == '*':\n",
    "            result = num1 * num2\n",
    "        elif operator == '/':\n",
    "            if num2 == 0:\n",
    "                print(\"0으로 나눌 수 없습니다.\")\n",
    "                continue\n",
    "            result = num1 / num2\n",
    "        else:\n",
    "            print(\"잘못된 연산자입니다. 다시 입력해주세요.\")\n",
    "            continue\n",
    "\n",
    "        print(\"결과:\", int(result))\n",
    "        break\n",
    "    except ValueError:\n",
    "        print(\"잘못된 입력입니다. 숫자를 입력해주세요.\")\n"
   ]
  },
  {
   "cell_type": "code",
   "execution_count": 13,
   "metadata": {},
   "outputs": [
    {
     "name": "stdout",
     "output_type": "stream",
     "text": [
      "Down\n",
      "Down\n",
      "Up\n",
      "Up\n",
      "정답입니다! 축하합니다.\n"
     ]
    }
   ],
   "source": [
    "# 숫자 맞추기 게임 프로그램\n",
    "# 1~100 사이의 난수를 만들고 사용자가 1~100 사이의 수를 입력하여 맞추는 프로그램. 5회까지 맞추지 못하면 종료\n",
    "\n",
    "import random\n",
    "\n",
    "number = random.randint(1, 100)\n",
    "count = 0\n",
    "\n",
    "while True:\n",
    "    guess = int(input(\"1부터 100 사이의 숫자 입력하세용 \"))\n",
    "    count += 1\n",
    "\n",
    "    if guess == number:\n",
    "        print(\"정답\")\n",
    "        break\n",
    "    elif guess > number:\n",
    "        print(\"Down\")\n",
    "    else:\n",
    "        print(\"Up\")\n",
    "\n",
    "    if count >= 5:\n",
    "        print(\"5번 틀렷어용\")\n",
    "        break\n"
   ]
  },
  {
   "cell_type": "code",
   "execution_count": 7,
   "metadata": {},
   "outputs": [
    {
     "name": "stdout",
     "output_type": "stream",
     "text": [
      "졋어용\n",
      "현재 잔액: $ 40\n",
      "이겻어용\n",
      "현재 잔액: $ 49\n",
      "졋어용\n",
      "현재 잔액: $ 39\n",
      "졋어용\n",
      "현재 잔액: $ 29\n",
      "이겻어용\n",
      "현재 잔액: $ 38\n",
      "졋어용\n",
      "현재 잔액: $ 28\n",
      "졋어용\n",
      "현재 잔액: $ 18\n",
      "이겻어용\n",
      "현재 잔액: $ 27\n",
      "졋어용\n",
      "현재 잔액: $ 17\n",
      "졋어용\n",
      "현재 잔액: $ 7\n",
      "이겻어용\n",
      "현재 잔액: $ 16\n",
      "졋어용\n",
      "현재 잔액: $ 6\n",
      "졋어용\n",
      "현재 잔액: $ -4\n",
      "돈 꼬랏어용 ㅠ\n"
     ]
    }
   ],
   "source": [
    "# 다음과 같은 게임 프로그램을 작성하라.\n",
    "# 플레이어가 처음에 $50을 가지고 있다. 동전을 한 번 던져서 앞면(1) 또는 뒷면(2)이 나온다. 맞추면 $9을 따고 틀리면 $10을 잃는다. 플레이어가 돈을 모두 잃거나 $100이 되면 게임이 종료된다.\n",
    "# 동전을 던져서 나오는 수는 다음 문장을 이용하라.\n",
    "\n",
    "import random\n",
    "from random import randint\n",
    "\n",
    "coin = randint(1,2) #1 또는 2를 임의로 발생\n",
    "player = 50\n",
    "target = 100\n",
    "\n",
    "while player > 0 and player < target:\n",
    "    coin = random.randint(1, 2)\n",
    "    guess = int(input(\"동전을 던져서 앞면(1) 또는 뒷면(2)을 맞춰보세요: \"))\n",
    "\n",
    "    if guess == coin:\n",
    "        player += 9\n",
    "        print(\"이겻어용\")\n",
    "    else:\n",
    "        player -= 10\n",
    "        print(\"졋어용\")\n",
    "\n",
    "    print(\"현재 잔액: $\", player)\n",
    "\n",
    "if player <= 0:\n",
    "    print(\"돈 꼬랏어용 ㅠ\")\n",
    "elif player >= target:\n",
    "    print(\"100달러 땃어용\")"
   ]
  },
  {
   "cell_type": "code",
   "execution_count": 8,
   "metadata": {},
   "outputs": [
    {
     "name": "stdout",
     "output_type": "stream",
     "text": [
      "최대공약수 8\n"
     ]
    }
   ],
   "source": [
    "# 두 수의 최대 공약수는 두 수를 나누어 떨어지는 가장 큰 수이다. 예를 들어 (16, 24)의 최대 공약수는 8이다. 두 수를 입력 받아 다음 알고리즘에 의해 최대 공약수를 구하는 프로그램을 작성하라.\n",
    "# 큰 수를 작은 수로 나눈 나머지를 구하라\n",
    "# 큰 수를 작은 수로 대체하고 작은 수는 나머지로 대체하라\n",
    "# 작은 수가 0이 될 때까지 이 과정을 반목하라. 마지막 큰 수가 최대 공약수이다.\n",
    "\n",
    "num1 = int(input(\"첫번째 수\"))\n",
    "num2 = int(input(\"두번째 수\"))\n",
    "\n",
    "while num2 != 0:\n",
    "    num1, num2 = num2, num1 % num2\n",
    "\n",
    "gcd = num1\n",
    "print(\"최대공약수\", gcd)"
   ]
  },
  {
   "cell_type": "code",
   "execution_count": 12,
   "metadata": {},
   "outputs": [
    {
     "name": "stdout",
     "output_type": "stream",
     "text": [
      "10 의 약수는\n",
      "1 2 5 10 "
     ]
    }
   ],
   "source": [
    "#정수를 입력 받아 그 수의 약수를 모두 출력하는 프로그램을 작성하라 m % n = 0이면 n은 m의 약수이다. 예를 들어 12의 약수는 1, 2, 3, 4, 6, 12이다. \n",
    "\n",
    "num = int(input(\"숫자입력 \"))\n",
    "\n",
    "print(f\"{num} 의 약수는\")\n",
    "\n",
    "for i in range(1, num+1):\n",
    "    if num % i == 0:\n",
    "        print(i, end=' ')"
   ]
  },
  {
   "cell_type": "code",
   "execution_count": 10,
   "metadata": {},
   "outputs": [
    {
     "name": "stdout",
     "output_type": "stream",
     "text": [
      "학점: A\n",
      "학점: D\n"
     ]
    }
   ],
   "source": [
    "# 반복문과 조건문을 사용해 점수를 계속 입력 받아 90점 이상이면 A, 80점 이상이면 B, 60점 이상이면 C, \n",
    "# 40점 이상이면 D, 39점 이하이면 F라고 출력하는 프로그램을 작성하라. \n",
    "# 입력 받는 점수가 음수일 때종료한다.\n",
    "\n",
    "while True:\n",
    "    score = int(input(\"점수입력: \"))\n",
    "\n",
    "    if score < 0:\n",
    "        break\n",
    "\n",
    "    if score >= 90:\n",
    "        grade = \"A\"\n",
    "    elif score >= 80:\n",
    "        grade = \"B\"\n",
    "    elif score >= 60:\n",
    "        grade = \"C\"\n",
    "    elif score >= 40:\n",
    "        grade = \"D\"\n",
    "    else:\n",
    "        grade = \"F\"\n",
    "\n",
    "    print(\"학점:\", grade)"
   ]
  },
  {
   "cell_type": "code",
   "execution_count": 3,
   "metadata": {},
   "outputs": [
    {
     "name": "stdout",
     "output_type": "stream",
     "text": [
      "2부터 5 까지의 소수:\n",
      "2\n",
      "3\n",
      "5\n"
     ]
    }
   ],
   "source": [
    "# 임의의 자연수 n이 입력되면 2부터 n까지의 모든 소수를 출력하는 프로그램. \n",
    "# 소수는 1과 자기자신으로만 나누어 떨어지는 수, 예 5, 7\n",
    "\n",
    "n = int(input(\"입력하세용: \"))\n",
    "\n",
    "print(\"2부터\", n, \"까지의 소수:\")\n",
    "for num in range(2, n+1):\n",
    "    is_prime = True\n",
    "    for i in range(2, int(num**0.5) + 1):\n",
    "        if num % i == 0:\n",
    "            is_prime = False\n",
    "            break\n",
    "    if is_prime:\n",
    "        print(num)\n"
   ]
  }
 ],
 "metadata": {
  "kernelspec": {
   "display_name": "Python 3",
   "language": "python",
   "name": "python3"
  },
  "language_info": {
   "codemirror_mode": {
    "name": "ipython",
    "version": 3
   },
   "file_extension": ".py",
   "mimetype": "text/x-python",
   "name": "python",
   "nbconvert_exporter": "python",
   "pygments_lexer": "ipython3",
   "version": "3.9.13"
  },
  "orig_nbformat": 4
 },
 "nbformat": 4,
 "nbformat_minor": 2
}
