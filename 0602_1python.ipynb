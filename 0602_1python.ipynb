{
 "cells": [
  {
   "cell_type": "code",
   "execution_count": 2,
   "metadata": {},
   "outputs": [
    {
     "name": "stdout",
     "output_type": "stream",
     "text": [
      "문자열의 문자수: 18\n",
      "10번 반복한 문자열: long live chat gptlong live chat gptlong live chat gptlong live chat gptlong live chat gptlong live chat gptlong live chat gptlong live chat gptlong live chat gptlong live chat gpt\n",
      "첫 번째 문자: l\n",
      "처음 3문자: lon\n",
      "마지막 3문자: gpt\n",
      "거꾸로 출력: tpg tahc evil gnol\n",
      "7번째 문자: i\n",
      "첫 번째 문자와 마지막 문자 제거: ong live chat gp\n",
      "대문자로 변경: LONG LIVE CHAT GPT\n",
      "소문자로 변경: long live chat gpt\n",
      "'a'를 'e'로 대체: long live chet gpt\n"
     ]
    }
   ],
   "source": [
    "# 사용자로부터 문자열 입력 받기\n",
    "user_input = input(\"문자열을 입력하세요: \")\n",
    "\n",
    "# 문자열의 문자수 출력\n",
    "print(\"문자열의 문자수:\", len(user_input))\n",
    "\n",
    "# 문자열을 10번 반복한 문자열 출력\n",
    "print(\"10번 반복한 문자열:\", user_input * 10)\n",
    "\n",
    "# 문자열의 첫 번째 문자 출력\n",
    "print(\"첫 번째 문자:\", user_input[0])\n",
    "\n",
    "# 처음 3문자 출력\n",
    "print(\"처음 3문자:\", user_input[:3])\n",
    "\n",
    "# 마지막 3문자 출력\n",
    "print(\"마지막 3문자:\", user_input[-3:])\n",
    "\n",
    "# 문자열을 거꾸로 출력\n",
    "print(\"거꾸로 출력:\", user_input[::-1])\n",
    "\n",
    "# 7번째 문자 출력 또는 '문자가 없습니다' 출력\n",
    "if len(user_input) >= 7:\n",
    "    print(\"7번째 문자:\", user_input[6])\n",
    "else:\n",
    "    print(\"문자가 없습니다.\")\n",
    "\n",
    "# 첫 번째 문자와 마지막 문자를 제거한 문자열 출력\n",
    "print(\"첫 번째 문자와 마지막 문자 제거:\", user_input[1:-1])\n",
    "\n",
    "# 문자를 모두 대문자로 변경하여 출력\n",
    "print(\"대문자로 변경:\", user_input.upper())\n",
    "\n",
    "# 문자를 모두 소문자로 변경하여 출력\n",
    "print(\"소문자로 변경:\", user_input.lower())\n",
    "\n",
    "# 'a'를 'e'로 대체하여 출력\n",
    "print(\"'a'를 'e'로 대체:\", user_input.replace('a', 'e'))\n"
   ]
  },
  {
   "cell_type": "code",
   "execution_count": 3,
   "metadata": {},
   "outputs": [
    {
     "name": "stdout",
     "output_type": "stream",
     "text": [
      "buffa\n",
      "lo\n"
     ]
    }
   ],
   "source": [
    "word = input(\"Your word: \")\n",
    "index = word.find('a')\n",
    "\n",
    "if index != -1:\n",
    "    print(word[:index+1])\n",
    "\n",
    "    print(word[index+1:])\n",
    "else:\n",
    "    print(\"입력한 단어에는 'a'가 없습니다.\")\n"
   ]
  },
  {
   "cell_type": "code",
   "execution_count": 7,
   "metadata": {},
   "outputs": [
    {
     "name": "stdout",
     "output_type": "stream",
     "text": [
      "13501\n"
     ]
    }
   ],
   "source": [
    "total_sum = 0\n",
    "\n",
    "for num in range(1, 1001):\n",
    "    num_str = str(num)\n",
    "    digit_sum = 0\n",
    "    \n",
    "    for digit in num_str:\n",
    "        digit_sum += int(digit)\n",
    "    \n",
    "    total_sum += digit_sum\n",
    "\n",
    "print(total_sum)\n"
   ]
  }
 ],
 "metadata": {
  "kernelspec": {
   "display_name": "Python 3",
   "language": "python",
   "name": "python3"
  },
  "language_info": {
   "codemirror_mode": {
    "name": "ipython",
    "version": 3
   },
   "file_extension": ".py",
   "mimetype": "text/x-python",
   "name": "python",
   "nbconvert_exporter": "python",
   "pygments_lexer": "ipython3",
   "version": "3.9.13"
  },
  "orig_nbformat": 4
 },
 "nbformat": 4,
 "nbformat_minor": 2
}
