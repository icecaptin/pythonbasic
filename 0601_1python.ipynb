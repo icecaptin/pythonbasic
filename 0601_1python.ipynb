{
 "cells": [
  {
   "cell_type": "code",
   "execution_count": 1,
   "metadata": {},
   "outputs": [
    {
     "name": "stdout",
     "output_type": "stream",
     "text": [
      "5은(는) 홀수입니다.\n"
     ]
    }
   ],
   "source": [
    "# 사용자로부터 숫자를 입력받아, 홀수인지 짝수인지 판별하기\n",
    "num = int(input(\"숫자를 입력하세요: \"))\n",
    "\n",
    "if num % 2 == 0:\n",
    "    print(f\"{num}은(는) 짝수입니다.\")\n",
    "else:\n",
    "    print(f\"{num}은(는) 홀수입니다.\")"
   ]
  },
  {
   "cell_type": "code",
   "execution_count": null,
   "metadata": {},
   "outputs": [],
   "source": [
    "score = int(input(\"성적을 입력하세요: \"))\n",
    "grade = \"A\" if score >= 90 else (\"B\" if score >= 80 else (\"C\" if score >= 70 else (\"D\" if score >= 60 else \"F\")))\n",
    "print(grade)\n"
   ]
  },
  {
   "cell_type": "code",
   "execution_count": 5,
   "metadata": {},
   "outputs": [
    {
     "name": "stdout",
     "output_type": "stream",
     "text": [
      "국어: 90 점, 영어: 80 점, 수학: 70 점\n",
      "각 과목의 평균 점수: 90 점, 80 점, 70 점\n",
      "총 평균 점수: 80 점\n",
      "학점: B\n"
     ]
    }
   ],
   "source": [
    "korean = int(input(\"국어 점수: \"))\n",
    "english = int(input(\"영어 점수: \"))\n",
    "math = int(input(\"수학 점수: \"))\n",
    "\n",
    "korean_avg = 0.4\n",
    "english_avg = 0.4\n",
    "math_avg = 0.2\n",
    "\n",
    "score_avg = int((korean * korean_avg + english * english_avg + math * math_avg) / (korean_avg + english_avg + math_avg))\n",
    "\n",
    "if score_avg >= 90:\n",
    "    grade = \"A\"\n",
    "elif score_avg >= 80:\n",
    "    grade = \"B\"\n",
    "elif score_avg >= 70:\n",
    "    grade = \"C\"\n",
    "elif score_avg >= 60:\n",
    "    grade = \"D\"\n",
    "else:\n",
    "    grade = \"F\"\n",
    "\n",
    "print(f\"국어: {korean} 점, 영어: {english} 점, 수학: {math} 점\")\n",
    "print(f\"총 평균 점수: {score_avg} 점\")\n",
    "print(f\"학점: {grade}\")\n"
   ]
  },
  {
   "cell_type": "code",
   "execution_count": 8,
   "metadata": {},
   "outputs": [
    {
     "name": "stdout",
     "output_type": "stream",
     "text": [
      "5 cm = 12.7 inch\n"
     ]
    }
   ],
   "source": [
    "#사용자로부터 cm 단위의 길이를 입력 받는다. \n",
    "#입력 값이 음수이면 \"잘못 입력하였습니다\"라는 메시지를 출력하고 \n",
    "#양수이면 길이를 인치로 변환하여 출력하는 프로그램을 작성하라. \n",
    "#1인치 = 2.54cm\n",
    "\n",
    "centimeter = int(input(\"cm?\"))\n",
    "oneinch = centimeter * 2.54\n",
    "\n",
    "if centimeter < 0:\n",
    "    print(\"잘못입력하셧습니다.\")\n",
    "else:\n",
    "    print(f\"{centimeter} cm = {oneinch} inch\")"
   ]
  },
  {
   "cell_type": "code",
   "execution_count": 11,
   "metadata": {},
   "outputs": [
    {
     "name": "stdout",
     "output_type": "stream",
     "text": [
      "2학년입니다.\n"
     ]
    }
   ],
   "source": [
    "#사용자로부터 이수한 학점을 입력 받는다. \n",
    "#학점이 40학점 미만이면 \"1학년입니다\"를 출력하고, \n",
    "#40이상 80미만이면 \"2학년입니다\"를 출력한다. \n",
    "#학점이 80이상이면 \"졸업반입니다\"를 출력하는 프로그램을 작성하라.\n",
    "\n",
    "totalscore = int(input(\"이수한 학점?\"))\n",
    "if totalscore >= 80:\n",
    "    print(\"졸업반입니다\")\n",
    "elif 80 > totalscore >= 40:\n",
    "    print(\"2학년입니다.\")\n",
    "else:\n",
    "    print(\"1학년입니다.\") "
   ]
  },
  {
   "cell_type": "code",
   "execution_count": 18,
   "metadata": {},
   "outputs": [
    {
     "name": "stdout",
     "output_type": "stream",
     "text": [
      "am\n",
      "New hour: 1 pm\n"
     ]
    }
   ],
   "source": [
    "#사용자로부터 현재 시간을 나타내는 1~12의 숫자를 입력 받는다. \n",
    "#또 \"am\" 혹은 \"pm\"을 입력 받고 경과 시간을 나타내는 값을 입력 받는다. \n",
    "#이로부터 최종 시간이 몇 시인지 출력하는 프로그램을 작성하라.\n",
    "\n",
    "hour = int(input(\"Enter hour (1-12): \"))\n",
    "ampm = input(\"am(1) or pm(2): \")\n",
    "\n",
    "if ampm == \"1\":\n",
    "    print(\"am\")\n",
    "elif ampm == \"2\":\n",
    "    print(\"pm\")\n",
    "else:\n",
    "    print(\"error\")\n",
    "\n",
    "hmha = int(input(\"How many hours ahead? \"))\n",
    "new_hour = hour + hmha\n",
    "\n",
    "if new_hour >= 13:\n",
    "    new_hour -= 12\n",
    "    ampm = \"am\" if ampm == \"2\" else \"pm\"\n",
    "print(f\"New hour: {new_hour} {ampm}\")\n"
   ]
  },
  {
   "cell_type": "code",
   "execution_count": 19,
   "metadata": {},
   "outputs": [
    {
     "name": "stdout",
     "output_type": "stream",
     "text": [
      "1부터 10 까지의 자연수 중에서 3의 배수와 5의 배수의 합: 33\n"
     ]
    }
   ],
   "source": [
    "n = int(input(\"양의 정수 n을 입력하세요: \"))\n",
    "sum = 0\n",
    "for num in range(1, n+1):\n",
    "    if num % 3 == 0 or num % 5 == 0:\n",
    "        sum += num\n",
    "\n",
    "print(\"1부터\", n, \"까지의 자연수 중에서 3의 배수와 5의 배수의 합:\", sum)\n"
   ]
  },
  {
   "cell_type": "code",
   "execution_count": 24,
   "metadata": {},
   "outputs": [
    {
     "name": "stdout",
     "output_type": "stream",
     "text": [
      "입력받은 숫자들 86 24\n",
      "최댓값: 86\n",
      "최솟값: 24\n"
     ]
    }
   ],
   "source": [
    "numbers = []\n",
    "for i in range(5):\n",
    "    while True:\n",
    "        num = int(input(\"1 ~ 100: \"))\n",
    "        if 1 <= num <= 100:\n",
    "            numbers.append(num)\n",
    "            break\n",
    "        else:\n",
    "            print(\"다시\")\n",
    "\n",
    "\n",
    "max_num = max(numbers)\n",
    "min_num = min(numbers)\n",
    "\n",
    "print(\"입력받은 숫자들\", max_num, min_num)\n",
    "print(\"최댓값:\", max_num)\n",
    "print(\"최솟값:\", min_num)"
   ]
  },
  {
   "cell_type": "code",
   "execution_count": 25,
   "metadata": {},
   "outputs": [
    {
     "name": "stdout",
     "output_type": "stream",
     "text": [
      "입력받은 숫자들의 합: 140\n"
     ]
    }
   ],
   "source": [
    "numbers = 0\n",
    "while numbers < 100:\n",
    "    num = int(input(\"1 이상 100 이하의 자연수를 입력하세요: \"))\n",
    "    if 1 <= num <= 100:\n",
    "        numbers += num\n",
    "    else:\n",
    "        print(\"입력 범위를 벗어났습니다. 다시 입력해주세요.\")\n",
    "\n",
    "print(\"입력받은 숫자들의 합:\", numbers)"
   ]
  },
  {
   "cell_type": "code",
   "execution_count": 29,
   "metadata": {},
   "outputs": [
    {
     "name": "stdout",
     "output_type": "stream",
     "text": [
      "피보나치 수열의 7번째 항은 13입니다.\n"
     ]
    }
   ],
   "source": [
    "#피보나치수열\n",
    "#1 1 2 3 5 8 13 21 34\n",
    "n = int(input(\"숫자입력\"))\n",
    "fib = lambda n, a=0, b=1 : a if n<=0 else fib(n-1,b, a+b)\n",
    "\n",
    "print(f\"피보나치 수열의 {n}번째 항은 {fib(n)}입니다.\")"
   ]
  }
 ],
 "metadata": {
  "kernelspec": {
   "display_name": "Python 3",
   "language": "python",
   "name": "python3"
  },
  "language_info": {
   "codemirror_mode": {
    "name": "ipython",
    "version": 3
   },
   "file_extension": ".py",
   "mimetype": "text/x-python",
   "name": "python",
   "nbconvert_exporter": "python",
   "pygments_lexer": "ipython3",
   "version": "3.9.13"
  },
  "orig_nbformat": 4
 },
 "nbformat": 4,
 "nbformat_minor": 2
}
