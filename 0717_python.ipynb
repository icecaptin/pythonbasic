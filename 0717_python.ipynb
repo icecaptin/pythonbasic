{
 "cells": [
  {
   "cell_type": "code",
   "execution_count": 155,
   "metadata": {},
   "outputs": [
    {
     "name": "stdout",
     "output_type": "stream",
     "text": [
      "['i', 'f', 't']\n"
     ]
    }
   ],
   "source": [
    "#Alphabet Display three letters selected at random from the alphabet.\n",
    "# 알파벳 랜덤 띄우기\n",
    "\n",
    "import random\n",
    "\n",
    "alphabet = 'abcdefghijklmnopqrstuvwxyz'\n",
    "\n",
    "random_letters = random.sample(alphabet, 3)\n",
    "\n",
    "print(random_letters)\n"
   ]
  },
  {
   "cell_type": "code",
   "execution_count": 144,
   "metadata": {},
   "outputs": [
    {
     "name": "stdout",
     "output_type": "stream",
     "text": [
      "앞면이 나온 횟수: 48\n"
     ]
    }
   ],
   "source": [
    "import random\n",
    "\n",
    "throws = 100\n",
    "head_cnt = 0\n",
    "\n",
    "for i in range(throws):\n",
    "    if random.choice([\"head\", \"tail\"]) == \"head\":\n",
    "        head_cnt += 1\n",
    "\n",
    "print(\"앞면이 나온 횟수:\", head_cnt)"
   ]
  },
  {
   "cell_type": "code",
   "execution_count": 2,
   "metadata": {},
   "outputs": [
    {
     "name": "stdout",
     "output_type": "stream",
     "text": [
      "3/4\n"
     ]
    },
    {
     "ename": "",
     "evalue": "",
     "output_type": "error",
     "traceback": [
      "\u001b[1;31m현재 셀 또는 이전 셀에서 코드를 실행하는 동안 Kernel이 충돌했습니다. 셀의 코드를 검토하여 오류의 가능한 원인을 식별하세요. 자세한 내용을 보려면 <a href='https://aka.ms/vscodeJupyterKernelCrash'> 여기 </a> 를 클릭하세요. 자세한 내용은 Jupyter <a href='command:jupyter.viewOutput'>로그</a>를 참조하세요."
     ]
    }
   ],
   "source": [
    "class Fraction:\n",
    "    def __init__(self, numerator, denominator):\n",
    "        self.numerator = numerator\n",
    "        self.denominator = denominator\n",
    "\n",
    "    def gcd(self, m, n):\n",
    "        while n != 0:\n",
    "            t = n\n",
    "            n = m % n\n",
    "            m = t\n",
    "        return m\n",
    "\n",
    "    def reduce(self):\n",
    "        common_divisor = self.gcd(self.numerator, self.denominator)\n",
    "        self.numerator //= common_divisor\n",
    "        self.denominator //= common_divisor\n",
    "\n",
    "# Example usage\n",
    "fraction = Fraction(12, 16)\n",
    "fraction.reduce()\n",
    "print(f\"{fraction.numerator}/{fraction.denominator}\")\n"
   ]
  },
  {
   "cell_type": "code",
   "execution_count": null,
   "metadata": {},
   "outputs": [],
   "source": [
    "class Fraction:\n",
    "    #분자 numerator 분자 denominator\n",
    "    def __init__(self, numerator, denominator):\n",
    "        self.numerator = numerator\n",
    "        self.denominator = denominator\n",
    "\n",
    "    def gcd(self, m, n):\n",
    "        while n != 0:\n",
    "            t = n\n",
    "            n = m % n\n",
    "            m = t\n",
    "        return m\n",
    "\n",
    "    def reduce(self):\n",
    "        common_divisor = self.gcd(self.numerator, self.denominator)\n",
    "        self.numerator //= common_divisor\n",
    "        self.denominator //= common_divisor\n",
    "\n",
    "# Get user input\n",
    "numerator = int(input(\"Enter numerator of fraction: \"))\n",
    "denominator = int(input(\"Enter denominator of fraction: \"))\n",
    "\n",
    "# Create Fraction instance\n",
    "fraction = Fraction(numerator, denominator)\n",
    "fraction.reduce()\n",
    "\n",
    "# Print the reduced fraction\n",
    "print(\"Reduction to lowest terms:\", fraction.numerator, \"/\", fraction.denominator)\n"
   ]
  },
  {
   "cell_type": "code",
   "execution_count": null,
   "metadata": {},
   "outputs": [],
   "source": [
    "import random\n",
    "\n",
    "class Contestant:\n",
    "    def __init__(self, name):\n",
    "        self.name = name\n",
    "        self.score = 0\n",
    "\n",
    "    def choose_move(self):\n",
    "        pass\n",
    "\n",
    "    def update_score(self, points):\n",
    "        self.score += points\n",
    "\n",
    "class Human(Contestant):\n",
    "    def choose_move(self):\n",
    "        player = input(\"Enter name of human:\")\n",
    "        move = input(\"Enter your move (rock/paper/scissors): \").lower()\n",
    "        while move not in ['rock', 'paper', 'scissors']:\n",
    "            print(\"Invalid move! Please choose rock, paper, or scissors.\")\n",
    "            move = input(\"Enter your move (rock/paper/scissors): \").lower()\n",
    "        return move\n",
    "\n",
    "class Computer(Contestant):\n",
    "    def choose_move(self):\n",
    "        return random.choice(['rock', 'paper', 'scissors'])\n",
    "\n",
    "def determine_winner(player_move, computer_move):\n",
    "    if player_move == computer_move:\n",
    "        return \"TIE\"\n",
    "    elif (player_move == \"rock\" and computer_move == \"scissors\") or \\\n",
    "         (player_move == \"paper\" and computer_move == \"rock\") or \\\n",
    "         (player_move == \"scissors\" and computer_move == \"paper\"):\n",
    "        return \"Player\"\n",
    "    else:\n",
    "        return \"Computer\"\n",
    "\n",
    "# Main game loop\n",
    "def play_game():\n",
    "    player = Human(\"player\")\n",
    "    computer = Computer(\"Computer\")\n",
    "    game_round = 1\n",
    "\n",
    "    while game_round <= 3:\n",
    "        print(f\"Round {game_round}\")\n",
    "        player_move = player.choose_move()\n",
    "        computer_move = computer.choose_move()\n",
    "\n",
    "        print(f\"Player chose: {player_move}\")\n",
    "        print(f\"Computer chose: {computer_move}\")\n",
    "\n",
    "        winner = determine_winner(player_move, computer_move)\n",
    "        if winner == \"Player\":\n",
    "            player.update_score(1)\n",
    "            print(\"Player wins the round!\")\n",
    "        elif winner == \"Computer\":\n",
    "            computer.update_score(1)\n",
    "            print(\"Computer wins the round!\")\n",
    "        else:\n",
    "            print(\"It's a tie!\")\n",
    "\n",
    "        game_round += 1\n",
    "        print()\n",
    "\n",
    "    # Display final scores and determine the overall winner\n",
    "    print(\"Final Scores:\")\n",
    "    print(f\"Player: {player.score}\")\n",
    "    print(f\"Computer: {computer.score}\")\n",
    "\n",
    "    if player.score > computer.score:\n",
    "        print(\"Player wins the match!\")\n",
    "    elif player.score < computer.score:\n",
    "        print(\"Computer wins the match!\")\n",
    "    else:\n",
    "        print(\"It's a tie!\")\n",
    "\n",
    "# Start the game\n",
    "play_game()\n"
   ]
  }
 ],
 "metadata": {
  "kernelspec": {
   "display_name": "Python 3",
   "language": "python",
   "name": "python3"
  },
  "language_info": {
   "codemirror_mode": {
    "name": "ipython",
    "version": 3
   },
   "file_extension": ".py",
   "mimetype": "text/x-python",
   "name": "python",
   "nbconvert_exporter": "python",
   "pygments_lexer": "ipython3",
   "version": "3.10.11"
  },
  "orig_nbformat": 4
 },
 "nbformat": 4,
 "nbformat_minor": 2
}
