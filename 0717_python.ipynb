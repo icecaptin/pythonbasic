{
 "cells": [
  {
   "cell_type": "code",
   "execution_count": 155,
   "metadata": {},
   "outputs": [
    {
     "name": "stdout",
     "output_type": "stream",
     "text": [
      "['i', 'f', 't']\n"
     ]
    }
   ],
   "source": [
    "#Alphabet Display three letters selected at random from the alphabet.\n",
    "# 알파벳 랜덤 띄우기\n",
    "\n",
    "import random\n",
    "\n",
    "alphabet = 'abcdefghijklmnopqrstuvwxyz'\n",
    "\n",
    "random_letters = random.sample(alphabet, 3)\n",
    "\n",
    "print(random_letters)\n"
   ]
  },
  {
   "cell_type": "code",
   "execution_count": 144,
   "metadata": {},
   "outputs": [
    {
     "name": "stdout",
     "output_type": "stream",
     "text": [
      "앞면이 나온 횟수: 48\n"
     ]
    }
   ],
   "source": [
    "import random\n",
    "\n",
    "throws = 100\n",
    "head_cnt = 0\n",
    "\n",
    "for i in range(throws):\n",
    "    if random.choice([\"head\", \"tail\"]) == \"head\":\n",
    "        head_cnt += 1\n",
    "\n",
    "print(\"앞면이 나온 횟수:\", head_cnt)"
   ]
  },
  {
   "cell_type": "code",
   "execution_count": null,
   "metadata": {},
   "outputs": [],
   "source": []
  }
 ],
 "metadata": {
  "kernelspec": {
   "display_name": "Python 3",
   "language": "python",
   "name": "python3"
  },
  "language_info": {
   "codemirror_mode": {
    "name": "ipython",
    "version": 3
   },
   "file_extension": ".py",
   "mimetype": "text/x-python",
   "name": "python",
   "nbconvert_exporter": "python",
   "pygments_lexer": "ipython3",
   "version": "3.9.13"
  },
  "orig_nbformat": 4
 },
 "nbformat": 4,
 "nbformat_minor": 2
}
