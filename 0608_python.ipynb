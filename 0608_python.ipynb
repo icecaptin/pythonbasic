{
 "cells": [
  {
   "cell_type": "code",
   "execution_count": 1,
   "metadata": {},
   "outputs": [
    {
     "name": "stdout",
     "output_type": "stream",
     "text": [
      "5050\n"
     ]
    }
   ],
   "source": [
    "# 1~n까지의 합을 계산하는 함수\n",
    "def calculate_sum(n):\n",
    "    return sum(range(1, n+1))\n",
    "\n",
    "result = calculate_sum(100)\n",
    "print(result)\n"
   ]
  },
  {
   "cell_type": "code",
   "execution_count": 2,
   "metadata": {},
   "outputs": [
    {
     "name": "stdout",
     "output_type": "stream",
     "text": [
      "반지름이 3.5cm인 원의 면적: 38.5\n",
      "반지름이 3.5cm인 원의 둘레: 22.0\n"
     ]
    }
   ],
   "source": [
    "# 반지름을 전달하면 원의 면적을 반환하는 cir_area(r) 함수와 원의 둘레를 반환하는 cir_cirm(r) 함수를 작성하라.\n",
    "# 이들 함수를 이용하여 반지름이 3.5cm인 원의 면적과 둘레를 소수점 아래 첫 자리까지 구하라.\n",
    "\n",
    "\n",
    "import math\n",
    "\n",
    "def cir_area(r):\n",
    "    area = math.pi * r**2\n",
    "    return round(area, 1)\n",
    "\n",
    "def cir_cirm(r):\n",
    "    circumference = 2 * math.pi * r\n",
    "    return round(circumference, 1)\n",
    "\n",
    "radius = 3.5\n",
    "area = cir_area(radius)\n",
    "circumference = cir_cirm(radius)\n",
    "\n",
    "print(\"반지름이 3.5cm인 원의 면적:\", area)\n",
    "print(\"반지름이 3.5cm인 원의 둘레:\", circumference)\n"
   ]
  },
  {
   "cell_type": "code",
   "execution_count": 3,
   "metadata": {},
   "outputs": [
    {
     "name": "stdout",
     "output_type": "stream",
     "text": [
      "12 의 약수: [1, 2, 3, 4, 6, 12]\n"
     ]
    }
   ],
   "source": [
    "# den(n) 함수를 이용하여 약수를 구하여 반환하는 프로그램을 작성\n",
    "# 12 -> [1, 2, 3, 4, 6, 12]\n",
    "\n",
    "\n",
    "def den(n):\n",
    "    div = []\n",
    "    for i in range(1, n+1):\n",
    "        if n % i == 0:\n",
    "            div.append(i)\n",
    "    return div\n",
    "\n",
    "number = int(input(\"양의 정수를 입력하세요: \"))\n",
    "result = den(number)\n",
    "print(number, \"의 약수:\", result)\n"
   ]
  },
  {
   "cell_type": "code",
   "execution_count": 6,
   "metadata": {},
   "outputs": [
    {
     "name": "stdout",
     "output_type": "stream",
     "text": [
      "****\n",
      "****\n"
     ]
    }
   ],
   "source": [
    "# 두 개의 매개변수 n, m을 전달받아 m x n개의 * 상자를 출력하는 프로그램을 함수로 작성\n",
    "\n",
    "def print_box(n, m):\n",
    "    for i in range(m):\n",
    "        for j in range(n):\n",
    "            print(\"*\", end=\"\")\n",
    "        print()\n",
    "\n",
    "print_box(4, 2)"
   ]
  },
  {
   "cell_type": "code",
   "execution_count": 9,
   "metadata": {},
   "outputs": [
    {
     "name": "stdout",
     "output_type": "stream",
     "text": [
      "12345 -> 1 + 2 + 3 + 4 + 5 = 15\n"
     ]
    }
   ],
   "source": [
    "#하나의 숫자를 전달받아 숫자의 자리 합을 구하는 함수를 작성\n",
    "\n",
    "def calculate_digit_sum(num):\n",
    "    digit_sum = 0\n",
    "    digits = []\n",
    "    for digit in str(num):\n",
    "        digit_sum += int(digit)\n",
    "        digits.append(digit)\n",
    "    equation = \" + \".join(digits)\n",
    "    return equation + \" = \" + str(digit_sum)\n",
    "\n",
    "\n",
    "num = 12345\n",
    "digit_sum = calculate_digit_sum(num)\n",
    "print(num, \"->\", digit_sum)\n"
   ]
  },
  {
   "cell_type": "code",
   "execution_count": 11,
   "metadata": {},
   "outputs": [
    {
     "name": "stdout",
     "output_type": "stream",
     "text": [
      "Hello Hills = 1\n",
      "Hello Hello = -1\n"
     ]
    }
   ],
   "source": [
    "# 두 개의 문자열이 서로 다른 처음 위치를 반환하는 함수를 작성. 두 개의 문자열이 같으면 -1을 반환\n",
    "\n",
    "\n",
    "def find_first_difference(str1, str2):\n",
    "    for i in range(min(len(str1), len(str2))):\n",
    "        if str1[i] != str2[i]:\n",
    "            return i\n",
    "    if len(str1) != len(str2):\n",
    "        return min(len(str1), len(str2))\n",
    "    return -1\n",
    "\n",
    "# 두 문자열이 완전히 같다면 -1이 출력\n",
    "string1 = \"Hello\"\n",
    "string2 = \"Hills\"\n",
    "result = find_first_difference(string1, string2)\n",
    "print(string1, string2, \"=\", result)\n",
    "# 문자열이 완전히 같다면 -1이 출력\n",
    "string1 = \"Hello\"\n",
    "string2 = \"Hello\"\n",
    "result = find_first_difference(string1, string2)\n",
    "print(string1, string2, \"=\", result)\n",
    "\n"
   ]
  },
  {
   "cell_type": "code",
   "execution_count": 12,
   "metadata": {},
   "outputs": [
    {
     "name": "stdout",
     "output_type": "stream",
     "text": [
      "문자열에서 문자 a 의 위치: [6, 14, 22]\n"
     ]
    }
   ],
   "source": [
    "# 문자열과 하나의 문자를 전달받아 문자열에서 문자의 위치를 모두 찾아 리스트로 반환하는 함수를 작성\n",
    "\n",
    "def find_character_positions(string, char):\n",
    "    positions = []\n",
    "    for i in range(len(string)):\n",
    "        if string[i] == char:\n",
    "            positions.append(i)\n",
    "    return positions\n",
    "\n",
    "string = \"All that you can't, leave behind\"\n",
    "character = 'a'\n",
    "positions = find_character_positions(string, character)\n",
    "print(\"문자열에서 문자\", character, \"의 위치:\", positions)\n"
   ]
  },
  {
   "cell_type": "code",
   "execution_count": 13,
   "metadata": {},
   "outputs": [
    {
     "name": "stdout",
     "output_type": "stream",
     "text": [
      "5050\n"
     ]
    }
   ],
   "source": [
    "# 재귀 함수를 이용하여 1부터 100까지의 합을 계산하는 프로그램\n",
    "\n",
    "def calculate(n):\n",
    "    if n == 1:\n",
    "        return 1\n",
    "    else:\n",
    "        return n + calculate(n-1)\n",
    "\n",
    "result = calculate(100)\n",
    "print(result)\n"
   ]
  },
  {
   "cell_type": "code",
   "execution_count": 2,
   "metadata": {},
   "outputs": [
    {
     "name": "stdout",
     "output_type": "stream",
     "text": [
      "'a' 문자의 위치: [6, 14, 22]\n"
     ]
    }
   ],
   "source": [
    "# enumerate() 내장 함수를 이용하여 사용자가 입력한 문자열에서 'a' 문자의 위치를 모두 찾아 출력하는 프로그램을 작성하라. \n",
    "# 'a'가 없으면 \"a가 없습니다'라는 메시지를 출력하라.\n",
    "\n",
    "def find_positions_of_a(string):\n",
    "    positions = [index for index, char in enumerate(string) if char == 'a']\n",
    "    return positions\n",
    "\n",
    "user_input = input(\"입력:  \") #All that you can't, leave behind\n",
    "positions = find_positions_of_a(user_input)\n",
    "\n",
    "if positions:\n",
    "    print(\"'a' 문자의 위치:\", positions)\n",
    "else:\n",
    "    print(\"a가 없습니다.\")"
   ]
  },
  {
   "cell_type": "code",
   "execution_count": 4,
   "metadata": {},
   "outputs": [
    {
     "name": "stdout",
     "output_type": "stream",
     "text": [
      "분리된 딕셔너리: {'led': 'on', 'motor': 'off', 'switch': 'off'}\n"
     ]
    }
   ],
   "source": [
    "# 다음과 같이 구성되는 문자열을 구분 문자(&, =)로 분리하여 딕셔너리로 반환하는 함수 작성\n",
    "# 예: 문자열 'led=on&motor=off&switch=off'이고 구분 문자가 '&', '='일 때 {'led':'on', 'motor':'off', 'switch':off'} 반환.\n",
    "# Hint: dict([['a','b'], ['c', 'd']]) -> {'a': 'b', 'c': 'd'}\n",
    "\n",
    "def string_to_dict(string, andand, equals):\n",
    "    key_value_pairs = [pair.split(equals) for pair in string.split(andand)]\n",
    "    dit = dict(key_value_pairs)\n",
    "    return dit\n",
    "\n",
    "string = 'led=on&motor=off&switch=off'\n",
    "andand = '&'\n",
    "equals = '='\n",
    "result = string_to_dict(string, andand, equals)\n",
    "print(\"분리된 딕셔너리:\", result)"
   ]
  }
 ],
 "metadata": {
  "kernelspec": {
   "display_name": "Python 3",
   "language": "python",
   "name": "python3"
  },
  "language_info": {
   "codemirror_mode": {
    "name": "ipython",
    "version": 3
   },
   "file_extension": ".py",
   "mimetype": "text/x-python",
   "name": "python",
   "nbconvert_exporter": "python",
   "pygments_lexer": "ipython3",
   "version": "3.9.13"
  },
  "orig_nbformat": 4
 },
 "nbformat": 4,
 "nbformat_minor": 2
}
