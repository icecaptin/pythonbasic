{
 "cells": [
  {
   "cell_type": "code",
   "execution_count": 52,
   "metadata": {},
   "outputs": [
    {
     "name": "stdout",
     "output_type": "stream",
     "text": [
      "My name is Tom and I am 20 years old\n",
      "I have 3 apples, 2 oranges, and 1 banana.\n",
      "The result is 1.23\n",
      "Your score is 90%\n",
      "10 + 20 = 30\n"
     ]
    }
   ],
   "source": [
    "#다음과 같은 문자열을 여러 포매팅 방법을 이용하여 출력하는 코드를 작성하세요. 밑줄 그어진 부분은 변수로 선언해서 사용하자\n",
    "#My name is Tom and I am 20 years old.\n",
    "#I have 3 apples, 2 oranges, and 1 banana.\n",
    "#The result is 1.23.\n",
    "#Your score is 90%.\n",
    "#10 + 20 = 30\n",
    "name = \"Tom\"\n",
    "age = 20\n",
    "print(f\"My name is {name} and I am {age:d} years old\")\n",
    "\n",
    "apple = 3\n",
    "orange = 2\n",
    "banana = 1\n",
    "print(f\"I have {apple} apples, {orange} oranges, and {banana} banana.\")\n",
    "\n",
    "result = float(1.23)\n",
    "print(f\"The result is {result}\")\n",
    "\n",
    "score = 90\n",
    "print(f\"Your score is {score}%\")\n",
    "\n",
    "x = 10\n",
    "y = 20\n",
    "z = x + y\n",
    "print(f\"{x} + {y} = {z}\")\n"
   ]
  },
  {
   "cell_type": "code",
   "execution_count": 1,
   "metadata": {},
   "outputs": [
    {
     "name": "stdout",
     "output_type": "stream",
     "text": [
      "2040.0\n"
     ]
    }
   ],
   "source": [
    "#사용자로부터 사과의 개수와 가격, 그리고 부가세율을 입력받아, 총 가격을 계산하는 프로그램을 작성하세요.\n",
    "\n",
    "apple = int(input(\"사과갯수입력\"))\n",
    "# price = 2000\n",
    "price = int(input(\"가격입력\"))\n",
    "# tax = float(0.03)\n",
    "tax = float(input(\"부가세율 입력\"))\n",
    "\n",
    "result = (apple * price) + (price * tax)\n",
    "print(result) "
   ]
  },
  {
   "cell_type": "code",
   "execution_count": 37,
   "metadata": {},
   "outputs": [
    {
     "name": "stdout",
     "output_type": "stream",
     "text": [
      "3분 20초\n"
     ]
    }
   ],
   "source": [
    "seconds = int(input(\"입력\"))\n",
    "\n",
    "minutes = seconds // 60\n",
    "seconds = seconds % 60\n",
    "\n",
    "print(f\"{minutes}분 {seconds}초\")\n"
   ]
  },
  {
   "cell_type": "code",
   "execution_count": 38,
   "metadata": {},
   "outputs": [
    {
     "name": "stdout",
     "output_type": "stream",
     "text": [
      "1일 1시간 50분\n"
     ]
    }
   ],
   "source": [
    "minutes = int(input(\"입력\"))\n",
    "\n",
    "day = minutes // 1440\n",
    "hour = minutes // 1440\n",
    "minutes2 = minutes % 60\n",
    "\n",
    "print(f\"{day}일 {hour}시간 {minutes2}분\")"
   ]
  },
  {
   "cell_type": "code",
   "execution_count": 73,
   "metadata": {},
   "outputs": [
    {
     "name": "stdout",
     "output_type": "stream",
     "text": [
      "5년후 금액: 6381407 원\n"
     ]
    }
   ],
   "source": [
    "money = 5000000\n",
    "rate = 0.05\n",
    "term = 5\n",
    "\n",
    "targetmoney = money * (1 + rate) ** term\n",
    "print(f'{term}년후 금액: {int(targetmoney)} 원')"
   ]
  },
  {
   "cell_type": "code",
   "execution_count": 40,
   "metadata": {},
   "outputs": [
    {
     "name": "stdout",
     "output_type": "stream",
     "text": [
      "5050\n"
     ]
    }
   ],
   "source": [
    "n = int(input(\"넣어줭\"))\n",
    "sum = n * (n + 1) // 2\n",
    "print(sum)\n"
   ]
  },
  {
   "cell_type": "code",
   "execution_count": 60,
   "metadata": {},
   "outputs": [
    {
     "name": "stdout",
     "output_type": "stream",
     "text": [
      "377.0 g\n"
     ]
    }
   ],
   "source": [
    "strb = int(input(\"딸기갯수 말하세용\"))\n",
    "grap = int(input(\"포도갯수 말하세용\"))\n",
    "\n",
    "starwberry = 75\n",
    "grape = 113.5\n",
    "\n",
    "grams = (starwberry * strb) + (grap * grape)\n",
    "print(f\"{float(grams)} g\")"
   ]
  }
 ],
 "metadata": {
  "kernelspec": {
   "display_name": "Python 3",
   "language": "python",
   "name": "python3"
  },
  "language_info": {
   "codemirror_mode": {
    "name": "ipython",
    "version": 3
   },
   "file_extension": ".py",
   "mimetype": "text/x-python",
   "name": "python",
   "nbconvert_exporter": "python",
   "pygments_lexer": "ipython3",
   "version": "3.9.13"
  },
  "orig_nbformat": 4
 },
 "nbformat": 4,
 "nbformat_minor": 2
}
