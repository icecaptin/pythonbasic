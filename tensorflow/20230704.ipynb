{
 "cells": [
  {
   "cell_type": "code",
   "execution_count": 4,
   "metadata": {},
   "outputs": [
    {
     "name": "stdout",
     "output_type": "stream",
     "text": [
      "goodbye\n",
      "ababab\n"
     ]
    }
   ],
   "source": [
    "a = 'good' + 'bye'\n",
    "b = ('a' + 'b') * 3\n",
    "print(a)\n",
    "print(b)"
   ]
  },
  {
   "cell_type": "code",
   "execution_count": 7,
   "metadata": {},
   "outputs": [
    {
     "name": "stdout",
     "output_type": "stream",
     "text": [
      "5\n",
      "None\n"
     ]
    }
   ],
   "source": [
    "exec('x = 2')\n",
    "exec('y = 3')\n",
    "z1 = eval('x + y')\n",
    "z2 = exec('x + y')\n",
    "\n",
    "print(z1)\n",
    "print(z2)\n"
   ]
  },
  {
   "cell_type": "code",
   "execution_count": 9,
   "metadata": {},
   "outputs": [
    {
     "name": "stdout",
     "output_type": "stream",
     "text": [
      "lower\n",
      "23\n",
      "done\n"
     ]
    }
   ],
   "source": [
    "number = 23\n",
    "guess = int(input('number: '))\n",
    "\n",
    "if guess == number:\n",
    "    print('correct')\n",
    "elif guess < number:\n",
    "    print('higher')\n",
    "else:\n",
    "    print('lower')\n",
    "\n",
    "print(number)\n",
    "print('done')\n"
   ]
  }
 ],
 "metadata": {
  "kernelspec": {
   "display_name": "Python 3",
   "language": "python",
   "name": "python3"
  },
  "language_info": {
   "codemirror_mode": {
    "name": "ipython",
    "version": 3
   },
   "file_extension": ".py",
   "mimetype": "text/x-python",
   "name": "python",
   "nbconvert_exporter": "python",
   "pygments_lexer": "ipython3",
   "version": "3.9.13"
  },
  "orig_nbformat": 4
 },
 "nbformat": 4,
 "nbformat_minor": 2
}
