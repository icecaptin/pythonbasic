{
 "cells": [
  {
   "cell_type": "code",
   "execution_count": 1,
   "metadata": {},
   "outputs": [
    {
     "name": "stdout",
     "output_type": "stream",
     "text": [
      "['이예진', '양성부', '이현진', '강주희', '이예진', '양소윤', '정승길', '손병희']\n"
     ]
    }
   ],
   "source": [
    "friends = ['양성부', '강주희', '이예진', '양소윤', '정승길']\n",
    "\n",
    "# 맨 앞에 새로운 친구 추가\n",
    "friends.insert(0, '이예진')\n",
    "\n",
    "# 3번째 위치에 새로운 친구 추가\n",
    "friends.insert(2, '이현진')\n",
    "\n",
    "# 마지막에 친구 추가\n",
    "friends.append('손병희')\n",
    "\n",
    "print(friends)"
   ]
  },
  {
   "cell_type": "code",
   "execution_count": 2,
   "metadata": {},
   "outputs": [
    {
     "name": "stdout",
     "output_type": "stream",
     "text": [
      "[3, 4, 5, 25, 6, 17]\n"
     ]
    }
   ],
   "source": [
    "list = [1, 2, 3]\n",
    "\n",
    "# 두 번째 요소를 17로 수정\n",
    "list[1] = 17\n",
    "\n",
    "# 리스트에 4, 5, 6을 추가\n",
    "list.extend([4, 5, 6])\n",
    "\n",
    "# 첫 번째 요소 제거\n",
    "del list[0]\n",
    "\n",
    "# 리스트를 요소 순서대로 배열하기\n",
    "list.sort()\n",
    "\n",
    "# 인덱스 3에 25 넣기\n",
    "list.insert(3, 25)\n",
    "\n",
    "print(list)\n"
   ]
  },
  {
   "cell_type": "code",
   "execution_count": 4,
   "metadata": {},
   "outputs": [
    {
     "name": "stdout",
     "output_type": "stream",
     "text": [
      "[0, 1, 2, 3, 4, 5, 6, 7, 8, 9, 10, 11, 12, 13, 14, 15, 16, 17, 18, 19, 20, 21, 22, 23, 24, 25, 26, 27, 28, 29, 30, 31, 32, 33, 34, 35, 36, 37, 38, 39, 40, 41, 42, 43, 44, 45, 46, 47, 48, 49]\n",
      "[1, 4, 9, 16, 25, 36, 49, 64, 81, 100, 121, 144, 169, 196, 225, 256, 289, 324, 361, 400, 441, 484, 529, 576, 625, 676, 729, 784, 841, 900, 961, 1024, 1089, 1156, 1225, 1296, 1369, 1444, 1521, 1600, 1681, 1764, 1849, 1936, 2025, 2116, 2209, 2304, 2401, 2500]\n"
     ]
    }
   ],
   "source": [
    "zerotofifty = []\n",
    "for num in range(50):\n",
    "    zerotofifty.append(num)\n",
    "    \n",
    "print(zerotofifty)\n",
    "\n",
    "zerotofiftydouble = []\n",
    "for num in range(1, 51):\n",
    "    zerotofiftydouble.append(num ** 2)\n",
    "\n",
    "print(zerotofiftydouble)\n"
   ]
  },
  {
   "cell_type": "code",
   "execution_count": 5,
   "metadata": {},
   "outputs": [
    {
     "name": "stdout",
     "output_type": "stream",
     "text": [
      "[5, 7, 9]\n"
     ]
    }
   ],
   "source": [
    "L = [1, 2, 3]\n",
    "M = [4, 5, 6]\n",
    "\n",
    "new_list = []\n",
    "for i in range(len(L)):\n",
    "    sum_of_elements = L[i] + M[i]\n",
    "    new_list.append(sum_of_elements)\n",
    "\n",
    "print(new_list)\n",
    "\n"
   ]
  },
  {
   "cell_type": "code",
   "execution_count": 7,
   "metadata": {},
   "outputs": [
    {
     "name": "stdout",
     "output_type": "stream",
     "text": [
      "2+5+11+33+55\n"
     ]
    }
   ],
   "source": [
    "numbers = []\n",
    "for i in range(5):\n",
    "    num = input(\"숫자를 입력하세요: \")\n",
    "    numbers.append(num)\n",
    "\n",
    "result = \"+\".join(numbers)\n",
    "print(result)\n"
   ]
  },
  {
   "cell_type": "code",
   "execution_count": null,
   "metadata": {},
   "outputs": [],
   "source": [
    "days = {'January': 31, 'February': 28, 'March': 31, 'April': 30, 'May': 31, 'June': 30, 'July': 31, 'August': 31, 'September': 30, 'October': 31,'November': 30, 'December': 31 }\n",
    "\n",
    "# 사용자가 월을 입력하면 해당 월에 일수를 출력\n",
    "user_month = input(\"월을 입력하세요: \")\n",
    "if user_month in days:\n",
    "    print(f\"{user_month}은 {days[user_month]}일까지 있습니다.\")\n",
    "else:\n",
    "    print(\"잘못된 월을 입력하였습니다.\")\n",
    "\n",
    "# 알파벳 순서로 모든 월 출력\n",
    "months_in_alphabetical_order = sorted(days.keys())\n",
    "print(\"알파벳 순서로 월 출력:\")\n",
    "for month in months_in_alphabetical_order:\n",
    "    print(month)\n",
    "\n",
    "# 일수가 31인 월 출력\n",
    "months_with_31_days = [month for month, days in days.items() if days == 31]\n",
    "print(\"일수가 31인 월 출력:\")\n",
    "for month in months_with_31_days:\n",
    "    print(month)\n",
    "\n",
    "# 월의 일수를 기준으로 오름차순으로 (key-value) 쌍 출력\n",
    "sorted_days = sorted(days.items(), key=lambda x: x[1])\n",
    "print(\"월의 일수를 기준으로 오름차순으로 (key-value) 쌍 출력:\")\n",
    "for month, days in sorted_days:\n",
    "    print(f\"{month}: {days}\")\n",
    "\n",
    "# 사용자가 월을 3자리만 입력하면 월의 일수 출력\n",
    "user_month_abbrev = str(input(\"월을 3자리로 입력하세요: \"))\n",
    "for month, days in days.items():\n",
    "    if month[:3] == user_month_abbrev.capitalize():\n",
    "        print(f\"{month}은 {days}일까지 있습니다.\")\n",
    "        break\n",
    "else:\n",
    "    print(\"잘못된 월을 입력하였습니다.\")"
   ]
  },
  {
   "cell_type": "code",
   "execution_count": 15,
   "metadata": {},
   "outputs": [
    {
     "name": "stdout",
     "output_type": "stream",
     "text": [
      "전화번호가 8로 끝나는 사용자 이름:\n",
      "Helga\n",
      "LJ\n",
      "이메일이 없는 사용자 이름:\n",
      "Princess\n",
      "전화번호: 555-1414\n",
      "이메일: todd@mail.net\n"
     ]
    }
   ],
   "source": [
    "d=[{'name':'Todd', 'phone':'555-1414', 'email':'todd@mail.net'}, {'name':'Helga', 'phone':'555-1618', 'email':'helga@mail.net'},{'name':'Princess', 'phone':'555-3141', 'email':''},{'name':'LJ', 'phone':'555-2718', 'email':'lj@mail.net'}]\n",
    "\n",
    "# 전화번호가 8로 끝나는 사용자 이름 출력\n",
    "print(\"전화번호가 8로 끝나는 사용자 이름:\")\n",
    "for user in d:\n",
    "    if user['phone'].endswith('8'):\n",
    "        print(user['name'])\n",
    "\n",
    "# 이메일이 없는 사용자 이름 출력\n",
    "print(\"이메일이 없는 사용자 이름:\")\n",
    "for user in d:\n",
    "    if user['email'] == '':\n",
    "        print(user['name'])\n",
    "\n",
    "# 사용자 이름을 입력하면 전화번호, 이메일 출력\n",
    "user_name = input(\"사용자 이름을 입력하세요: \")\n",
    "found = False\n",
    "for user in d:\n",
    "    if user['name'] == user_name:\n",
    "        print(f\"전화번호: {user['phone']}\")\n",
    "        print(f\"이메일: {user['email']}\")\n",
    "        found = True\n",
    "        break\n",
    "if not found:\n",
    "    print(\"이름이 없습니다.\")"
   ]
  },
  {
   "cell_type": "code",
   "execution_count": 113,
   "metadata": {},
   "outputs": [
    {
     "name": "stdout",
     "output_type": "stream",
     "text": [
      "로또 번호:\n",
      "5 6 14 20 28 35\n",
      "2 3 8 16 24 38\n",
      "5 7 13 24 30 38\n",
      "3 17 30 33 34 36\n",
      "3 7 22 23 30 32\n"
     ]
    }
   ],
   "source": [
    "import random\n",
    "\n",
    "# 로또 번호 생성\n",
    "def generate_lotto_numbers():\n",
    "    lotto_numbers = random.sample(range(1, 46), 6)\n",
    "    return sorted(lotto_numbers)\n",
    "\n",
    "# 로또 번호 출력\n",
    "def print_lotto_numbers(numbers):\n",
    "    print(\"로또 번호:\")\n",
    "    for i in range(0, len(numbers), 6):\n",
    "        print(\" \".join(str(num) for num in numbers[i:i+6]))\n",
    "\n",
    "# 메인 프로그램\n",
    "if __name__ == \"__main__\":\n",
    "    lotto_numbers = []\n",
    "    for _ in range(5):\n",
    "        lotto_numbers.extend(generate_lotto_numbers())\n",
    "    print_lotto_numbers(lotto_numbers)\n"
   ]
  },
  {
   "cell_type": "code",
   "execution_count": 65,
   "metadata": {},
   "outputs": [
    {
     "name": "stdout",
     "output_type": "stream",
     "text": [
      "Average grades:\n",
      "Alice: 90.0\n",
      "Bob: 80.0\n",
      "Charlie: 95.0\n"
     ]
    }
   ],
   "source": [
    "students = {\n",
    "    \"Alice\": [85, 90, 95],\n",
    "    \"Bob\": [75, 80, 85],\n",
    "    \"Charlie\": [95, 95, 95]\n",
    "}\n",
    "\n",
    "print(\"Average grades:\")\n",
    "for student, grades in students.items():\n",
    "    average_grade = sum(grades) / len(grades)\n",
    "    print(f\"{student}: {average_grade}\")\n"
   ]
  }
 ],
 "metadata": {
  "kernelspec": {
   "display_name": "Python 3",
   "language": "python",
   "name": "python3"
  },
  "language_info": {
   "codemirror_mode": {
    "name": "ipython",
    "version": 3
   },
   "file_extension": ".py",
   "mimetype": "text/x-python",
   "name": "python",
   "nbconvert_exporter": "python",
   "pygments_lexer": "ipython3",
   "version": "3.9.13"
  },
  "orig_nbformat": 4
 },
 "nbformat": 4,
 "nbformat_minor": 2
}
